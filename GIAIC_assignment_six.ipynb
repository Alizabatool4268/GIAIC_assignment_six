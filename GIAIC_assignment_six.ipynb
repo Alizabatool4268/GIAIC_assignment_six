{
  "nbformat": 4,
  "nbformat_minor": 0,
  "metadata": {
    "colab": {
      "provenance": [],
      "authorship_tag": "ABX9TyPJFo4IM5wO619Q2NiK5KfR",
      "include_colab_link": true
    },
    "kernelspec": {
      "name": "python3",
      "display_name": "Python 3"
    },
    "language_info": {
      "name": "python"
    }
  },
  "cells": [
    {
      "cell_type": "markdown",
      "metadata": {
        "id": "view-in-github",
        "colab_type": "text"
      },
      "source": [
        "<a href=\"https://colab.research.google.com/github/Alizabatool4268/GIAIC_assignment_six/blob/main/GIAIC_assignment_six.ipynb\" target=\"_parent\"><img src=\"https://colab.research.google.com/assets/colab-badge.svg\" alt=\"Open In Colab\"/></a>"
      ]
    },
    {
      "cell_type": "markdown",
      "source": [
        "# **1. Using self**\n",
        "\n",
        "Assignment:\n",
        "\n",
        "Create a class Student with attributes name and marks. Use the self keyword to initialize these values via a constructor. Add a method display() that prints student details."
      ],
      "metadata": {
        "id": "Cc2ZAQaWN5x1"
      }
    },
    {
      "cell_type": "code",
      "source": [
        "class Student:\n",
        "  def __init__(self,name,marks):\n",
        "    self.name = name\n",
        "    self.marks = marks\n",
        "  def display(self):\n",
        "      print(f\"My name is {self.name} and my total marks are {self.marks} out of 100\" )\n",
        "student= Student(\"Aliza\",80)\n",
        "student.display()"
      ],
      "metadata": {
        "colab": {
          "base_uri": "https://localhost:8080/"
        },
        "id": "t90qbHehOHMZ",
        "outputId": "3fef20ba-79d5-40cb-8184-cfb9c9f513ef"
      },
      "execution_count": null,
      "outputs": [
        {
          "output_type": "stream",
          "name": "stdout",
          "text": [
            "My name is Aliza and my total marks are 80 out of 100\n"
          ]
        }
      ]
    },
    {
      "cell_type": "markdown",
      "source": [
        "# **2. Using cls**\n",
        "\n",
        "Assignment:\n",
        "\n",
        "Create a class Counter that keeps track of how many objects have been created. Use a class variable and a class method with cls to manage and display the count.\n",
        "\n"
      ],
      "metadata": {
        "id": "063vl359k5Yw"
      }
    },
    {
      "cell_type": "code",
      "source": [
        "class Counter:\n",
        "  obj_count = 0\n",
        "  def __init__(self):\n",
        "    Counter.obj_count += 1\n",
        "  @classmethod\n",
        "  def track(cls):\n",
        "    print(f\"object count: {cls.obj_count}\")\n",
        "count = Counter()\n",
        "count.track()\n",
        "count2 = Counter()\n",
        "count.track()\n",
        "count3 = Counter()\n",
        "count.track()"
      ],
      "metadata": {
        "colab": {
          "base_uri": "https://localhost:8080/"
        },
        "id": "MIuUXKbwsbi6",
        "outputId": "107510e1-3303-4b22-b07c-26d004540b04"
      },
      "execution_count": null,
      "outputs": [
        {
          "output_type": "stream",
          "name": "stdout",
          "text": [
            "object count: 1\n",
            "object count: 2\n",
            "object count: 3\n"
          ]
        }
      ]
    },
    {
      "cell_type": "markdown",
      "source": [
        "# **3. Public Variables and Methods**\n",
        "\n",
        "Assignment:\n",
        "\n",
        "Create a class Car with a public variable brand and a public method start(). Instantiate the class and access both from outside the class."
      ],
      "metadata": {
        "id": "e6CT_EccxqEV"
      }
    },
    {
      "cell_type": "code",
      "source": [
        "class Car:\n",
        "  brand = \"toyota\"\n",
        "  def Start (self, engine_noise):\n",
        "    self.engine_noise = engine_noise\n",
        "    print(f\"The car makes noise {engine_noise} its ready to roll\")\n",
        "car = Car()\n",
        "print(car.brand)\n",
        "car.Start(\"wroom\")\n"
      ],
      "metadata": {
        "colab": {
          "base_uri": "https://localhost:8080/"
        },
        "id": "D2ZKfs0Fxvx5",
        "outputId": "0f4e2abf-ae08-4523-815b-0921070a0a2b"
      },
      "execution_count": null,
      "outputs": [
        {
          "output_type": "stream",
          "name": "stdout",
          "text": [
            "toyota\n",
            "The car makes noise wroom its ready to roll\n"
          ]
        }
      ]
    },
    {
      "cell_type": "markdown",
      "source": [
        "# **4. Class Variables and Class Methods**\n",
        "\n",
        "Assignment:\n",
        "\n",
        "Create a class Bank with a class variable bank_name. Add a class method change_bank_name(cls, name) that allows changing the bank name. Show that it affects all instances.\n",
        "\n"
      ],
      "metadata": {
        "id": "UIO-Os-J4gbB"
      }
    },
    {
      "cell_type": "code",
      "source": [
        "class Bank :\n",
        "  bank_name= \"Meezan Bank\"\n",
        "  @classmethod\n",
        "  def change_bank_name(cls,name):\n",
        "    cls.bank_name = name\n",
        "bank1 = Bank()\n",
        "print(bank1.bank_name)\n",
        "# After change\n",
        "bank2 = Bank()\n",
        "bank2.change_bank_name(\"UBL bank\")\n",
        "print(bank2.bank_name)"
      ],
      "metadata": {
        "id": "OWfLD36z6269",
        "colab": {
          "base_uri": "https://localhost:8080/"
        },
        "outputId": "f00aa18a-dc0d-41f7-8a4e-77d40af1f291"
      },
      "execution_count": null,
      "outputs": [
        {
          "output_type": "stream",
          "name": "stdout",
          "text": [
            "Meezan Bank\n",
            "UBL bank\n"
          ]
        }
      ]
    },
    {
      "cell_type": "markdown",
      "source": [
        "# **5. Static Variables and Static Methods**\n",
        "\n",
        "Assignment:\n",
        "\n",
        "Create a class MathUtils with a static method add(a, b) that returns the sum. No class or instance variables should be used.\n",
        "\n"
      ],
      "metadata": {
        "id": "NP_PGu2TQWRL"
      }
    },
    {
      "cell_type": "code",
      "source": [
        "class MathUtils:\n",
        "  @staticmethod\n",
        "  def add(a,b):\n",
        "    return a + b\n",
        "mathutil = MathUtils()\n",
        "print(mathutil.add(10,5))\n"
      ],
      "metadata": {
        "colab": {
          "base_uri": "https://localhost:8080/"
        },
        "id": "27qz9rSsQcGD",
        "outputId": "b2e78cea-0c8e-4f16-94fe-5a95481cf525"
      },
      "execution_count": null,
      "outputs": [
        {
          "output_type": "stream",
          "name": "stdout",
          "text": [
            "15\n"
          ]
        }
      ]
    },
    {
      "cell_type": "markdown",
      "source": [
        "# **6. Constructors and Destructors**\n",
        "\n",
        "Assignment:\n",
        "\n",
        "Create a class Logger that prints a message when an object is created (constructor) and another message when it is destroyed (destructor)."
      ],
      "metadata": {
        "id": "DmsomPJwT9fj"
      }
    },
    {
      "cell_type": "code",
      "source": [
        "class Logger:\n",
        "  def __init__(self):\n",
        "    print(\"Instance is created\")\n",
        "  def __del__ (self):\n",
        "    print(\"Instance is destroyed\")\n",
        "logger = Logger()\n",
        "del logger\n"
      ],
      "metadata": {
        "colab": {
          "base_uri": "https://localhost:8080/"
        },
        "id": "egSzO9fqUH8L",
        "outputId": "a43a575f-3267-4853-a8bf-d1c9d84f977d"
      },
      "execution_count": null,
      "outputs": [
        {
          "output_type": "stream",
          "name": "stdout",
          "text": [
            "Instance is created\n",
            "Instance is destroyed\n"
          ]
        }
      ]
    },
    {
      "cell_type": "markdown",
      "source": [
        "# **7. Access Modifiers: Public, Private, and Protected**\n",
        "\n",
        "Assignment:\n",
        "Create a class Employee with:\n",
        "\n",
        "a public variable name,\n",
        "\n",
        "a protected variable _salary, and\n",
        "\n",
        "a private variable __ssn.\n",
        "\n",
        "Try accessing all three variables from an object of the class and document what happens."
      ],
      "metadata": {
        "id": "zbsRpL_rVMLl"
      }
    },
    {
      "cell_type": "code",
      "source": [
        "class Employee:\n",
        "  name = \"aliza\"  # public avalable every where\n",
        "  _salary = 20000  # protected by convention\n",
        "  __ssn = 153250189   # private name mangled\n",
        "employee = Employee()\n",
        "print(employee.name)\n",
        "print(employee._salary) # It protects the variable but itb can return value when accessed so good practice is to use getter ans setter\n",
        "#print(employee.__ssn) # return error because it is private and python does not allow its access out side classes\n",
        "print(\"AttributeError: 'Employee' object has no attribute '__ssn'\")"
      ],
      "metadata": {
        "colab": {
          "base_uri": "https://localhost:8080/"
        },
        "id": "MNql7R9WVVov",
        "outputId": "ef016e6d-d804-4c3d-a3cf-05d91cc56418"
      },
      "execution_count": null,
      "outputs": [
        {
          "output_type": "stream",
          "name": "stdout",
          "text": [
            "aliza\n",
            "20000\n",
            "AttributeError: 'Employee' object has no attribute '__ssn'\n"
          ]
        }
      ]
    },
    {
      "cell_type": "markdown",
      "source": [
        "# **8. The super() Function**\n",
        "\n",
        "Assignment:\n",
        "\n",
        "Create a class Person with a constructor that sets the name. Inherit a class Teacher from it, add a subject field, and use super() to call the base class constructor.\n",
        "\n"
      ],
      "metadata": {
        "id": "5wT6RXgaYBqD"
      }
    },
    {
      "cell_type": "code",
      "source": [
        "class Person:\n",
        "  def __init__(self,name) :\n",
        "    self.name = name\n",
        "\n",
        "class Teacher(Person):\n",
        "  def __init__ (self,name,subject):\n",
        "    super().__init__(name)\n",
        "    self.subject = subject\n",
        "    print(f\"my name is {name} my field is {self.subject}\")\n",
        "\n",
        "\n",
        "teacher = Teacher(\"fatima\",\"physics\")\n",
        "\n"
      ],
      "metadata": {
        "colab": {
          "base_uri": "https://localhost:8080/"
        },
        "id": "wph7AFuOYJ1d",
        "outputId": "a6181799-f487-42fc-9fb6-6917bd4300b7"
      },
      "execution_count": null,
      "outputs": [
        {
          "output_type": "stream",
          "name": "stdout",
          "text": [
            "my name is fatima my field is physics\n"
          ]
        }
      ]
    },
    {
      "cell_type": "markdown",
      "source": [
        "# **9. Abstract Classes and Methods**\n",
        "\n",
        "Assignment:\n",
        "\n",
        "Use the abc module to create an abstract class Shape with an abstract method area(). Inherit a class Rectangle that implements area()."
      ],
      "metadata": {
        "id": "MIVURo_Ea7hh"
      }
    },
    {
      "cell_type": "code",
      "source": [
        "from abc import ABC, abstractmethod\n",
        "\n",
        "class Shape(ABC):\n",
        "    @abstractmethod\n",
        "    def area(self):\n",
        "        pass\n",
        "class Rectangle(Shape):\n",
        "    def __init__(self,length, width ):\n",
        "        self.length=length\n",
        "        self.width=width\n",
        "    def area(self):\n",
        "        print(f\"Area of Rectangle is: {self.length*self.width} m*2\")\n",
        "area1=Rectangle(4, 8)\n",
        "area1.area()"
      ],
      "metadata": {
        "colab": {
          "base_uri": "https://localhost:8080/"
        },
        "id": "PP9ta4GRbd4v",
        "outputId": "26648d7f-20c3-40c6-c233-f1f74757c5d1"
      },
      "execution_count": null,
      "outputs": [
        {
          "output_type": "stream",
          "name": "stdout",
          "text": [
            "Area of Rectangle is: 32 m*2\n"
          ]
        }
      ]
    },
    {
      "cell_type": "markdown",
      "source": [
        "# **10. Instance Methods**\n",
        "\n",
        "Assignment:\n",
        "\n",
        "Create a class Dog with instance variables name and breed. Add an instance method bark() that prints a message including the dog's name."
      ],
      "metadata": {
        "id": "1hVyM3lNc5lX"
      }
    },
    {
      "cell_type": "code",
      "source": [
        "class Dog():\n",
        "    def __init__(self,name,breed):\n",
        "        self.name = name\n",
        "        self.breed = breed\n",
        "    def bark(self):\n",
        "        print(f\"{self.name} barks woof\")\n",
        "\n",
        "animal=Dog(\"Husky\", \"Alaskan Husky\")\n",
        "animal.bark()\n"
      ],
      "metadata": {
        "colab": {
          "base_uri": "https://localhost:8080/"
        },
        "id": "KYOWrEdDi33b",
        "outputId": "6b7aa997-a96e-4325-fe90-0654dea58034"
      },
      "execution_count": null,
      "outputs": [
        {
          "output_type": "stream",
          "name": "stdout",
          "text": [
            "Husky barks woof\n"
          ]
        }
      ]
    },
    {
      "cell_type": "markdown",
      "source": [
        "# **11. Class Methods**\n",
        "\n",
        "Assignment:\n",
        "\n",
        "Create a class Book with a class variable total_books. Add a class method increment_book_count() to increase the count when a new book is added."
      ],
      "metadata": {
        "id": "t7iW9IY9k4Vq"
      }
    },
    {
      "cell_type": "code",
      "source": [
        "class Book():\n",
        "    total_books=0\n",
        "    @classmethod\n",
        "    def increment_book_count(cls):\n",
        "        cls.total_books+=1\n",
        "        print(f\"total books: {cls.total_books}\")\n",
        "\n",
        "\n",
        "Book.increment_book_count()\n",
        "Book.increment_book_count()"
      ],
      "metadata": {
        "colab": {
          "base_uri": "https://localhost:8080/"
        },
        "id": "IBAl8VZ_lAcl",
        "outputId": "6cbcefc9-f4d3-4d87-b5a0-ebb8d0b938b1"
      },
      "execution_count": null,
      "outputs": [
        {
          "output_type": "stream",
          "name": "stdout",
          "text": [
            "total books 1\n",
            "total books 2\n"
          ]
        }
      ]
    },
    {
      "cell_type": "markdown",
      "source": [
        "# **12. Static Methods**\n",
        "\n",
        "Assignment:\n",
        "Create a class TemperatureConverter with a static method celsius_to_fahrenheit(c) that returns the Fahrenheit value."
      ],
      "metadata": {
        "id": "v57PMdeNmXpa"
      }
    },
    {
      "cell_type": "code",
      "source": [
        "class TemperatureConverter:\n",
        "    @staticmethod\n",
        "    def celcius_to_fehrenheit(celcius):\n",
        "        return f\"Celsius to Fehrenheit: {(celcius * 9/5) + 32}\"\n",
        "print(TemperatureConverter.celcius_to_fehrenheit(40))"
      ],
      "metadata": {
        "colab": {
          "base_uri": "https://localhost:8080/"
        },
        "id": "7C2BQEdhmqWB",
        "outputId": "26448ec1-a6c0-4ac1-951b-86a32c063f07"
      },
      "execution_count": null,
      "outputs": [
        {
          "output_type": "stream",
          "name": "stdout",
          "text": [
            "Celsius to Fehrenheit: 104.0\n"
          ]
        }
      ]
    },
    {
      "cell_type": "markdown",
      "source": [
        "# **13. Composition**\n",
        "\n",
        "Assignment:\n",
        "\n",
        "Create a class Engine and a class Car. Use composition by passing an Engine object to the Car class during initialization. Access a method of the Engine class via the Car class."
      ],
      "metadata": {
        "id": "rSNiMi_Bm5-B"
      }
    },
    {
      "cell_type": "code",
      "source": [
        "class Engine:\n",
        "    def start(self):\n",
        "        return \"Engine is starting....\"\n",
        "class Car:\n",
        "    def __init__(self):\n",
        "        self.engine = Engine()\n",
        "    def start(self):\n",
        "        print(f\"car starting: {self.engine.start()}\")\n",
        "car=Car()\n",
        "car.start()"
      ],
      "metadata": {
        "colab": {
          "base_uri": "https://localhost:8080/"
        },
        "id": "tWZpoIH6m-U2",
        "outputId": "2c9ff0e7-bc77-41aa-8d65-ddbd66db710b"
      },
      "execution_count": null,
      "outputs": [
        {
          "output_type": "stream",
          "name": "stdout",
          "text": [
            "car starting: Engine is starting....\n"
          ]
        }
      ]
    },
    {
      "cell_type": "markdown",
      "source": [
        "# **14. Aggregation**\n",
        "\n",
        "Assignment:\n",
        "\n",
        "Create a class Department and a class Employee. Use aggregation by having a Department object store a reference to an Employee object that exists independently of it.\n",
        "\n"
      ],
      "metadata": {
        "id": "Ry1NAsV_ndYA"
      }
    },
    {
      "cell_type": "code",
      "source": [
        "class Department:\n",
        "    def __init__(self, name):\n",
        "        self.name=name\n",
        "\n",
        "class Employee:\n",
        "    def __init__(self,name) :\n",
        "        self.name=name\n",
        "        self.department=[]\n",
        "    def add_department(self, department):\n",
        "        self.department.append(department)\n",
        "\n",
        "fin=Department(\"Finance\")\n",
        "acd=Department(\"Academic\")\n",
        "employee1 = Employee(\"Bob\")\n",
        "employee1.add_department(fin)\n",
        "employee1.add_department(acd)\n",
        "\n",
        "print(employee1.name)\n",
        "for departement in employee1.department:\n",
        "    print(departement.name)"
      ],
      "metadata": {
        "colab": {
          "base_uri": "https://localhost:8080/"
        },
        "id": "OoE9Dxhmnppq",
        "outputId": "02adfec4-647d-4894-e632-b64048ed776d"
      },
      "execution_count": null,
      "outputs": [
        {
          "output_type": "stream",
          "name": "stdout",
          "text": [
            "Bob\n",
            "Finance\n",
            "Academic\n"
          ]
        }
      ]
    },
    {
      "cell_type": "markdown",
      "source": [
        "# **15. Method Resolution Order (MRO) and Diamond Inheritance**\n",
        "Assignment:\n",
        "Create four classes:\n",
        "\n",
        "A with a method show(),\n",
        "\n",
        "B and C that inherit from A and override show(),\n",
        "\n",
        "D that inherits from both B and C.\n",
        "\n",
        "Create an object of D and call show() to observe MRO.\n",
        "\n"
      ],
      "metadata": {
        "id": "_uiPWkHPoFRW"
      }
    },
    {
      "cell_type": "code",
      "source": [
        "class A:\n",
        "    def show(self):\n",
        "        print(\"showing from class A\")\n",
        "class B(A):\n",
        "    def show(self):\n",
        "        print(\"showing from class B\")\n",
        "class C(A):\n",
        "    def show(self):\n",
        "        print(\"showing from class A\")\n",
        "class D(B,C):\n",
        "    pass\n",
        "\n",
        "instance=D()\n",
        "print(D.mro())\n",
        "instance.show()"
      ],
      "metadata": {
        "colab": {
          "base_uri": "https://localhost:8080/"
        },
        "id": "PZYvqHFLoQI-",
        "outputId": "d1e2ff2c-601b-462e-c3a8-0d4aeaa08374"
      },
      "execution_count": null,
      "outputs": [
        {
          "output_type": "stream",
          "name": "stdout",
          "text": [
            "[<class '__main__.D'>, <class '__main__.B'>, <class '__main__.C'>, <class '__main__.A'>, <class 'object'>]\n",
            "showing from class B\n"
          ]
        }
      ]
    },
    {
      "cell_type": "markdown",
      "source": [
        "# **16. Function Decorators**\n",
        "\n",
        "Assignment:\n",
        "Write a decorator function log_function_call that prints \"Function is being called\" before a function executes. Apply it to a function say_hello().\n",
        "\n"
      ],
      "metadata": {
        "id": "4_fncfKWowjb"
      }
    },
    {
      "cell_type": "code",
      "source": [
        "def log_function_call(func):\n",
        "   def wrap():\n",
        "       print(\"Function is being called\")\n",
        "       return func()\n",
        "   return wrap\n",
        "@log_function_call\n",
        "def say_hello():\n",
        "    print(\"hello from say hello\")\n",
        "say_hello()"
      ],
      "metadata": {
        "colab": {
          "base_uri": "https://localhost:8080/"
        },
        "id": "dlVfwJg2o5zI",
        "outputId": "65060208-cc54-42f9-d490-74200ae4402d"
      },
      "execution_count": null,
      "outputs": [
        {
          "output_type": "stream",
          "name": "stdout",
          "text": [
            "Function is being called\n",
            "hello from say hello\n"
          ]
        }
      ]
    },
    {
      "cell_type": "markdown",
      "source": [
        "# **17. Class Decorators**\n",
        "\n",
        "Assignment:\n",
        "\n",
        "Create a class decorator add_greeting that modifies a class to add a greet() method returning \"Hello from Decorator!\". Apply it to a class Person."
      ],
      "metadata": {
        "id": "KwzrNsV6p26-"
      }
    },
    {
      "cell_type": "code",
      "source": [
        "def add_greeting(cls):\n",
        "    def greet(self):\n",
        "        print(\"Hello from Decorator\")\n",
        "    cls.greet = greet\n",
        "    return cls\n",
        "@add_greeting\n",
        "class Person:\n",
        "    def __init__(self,name):\n",
        "        self.name = name\n",
        "\n",
        "p1= Person(\"Naimal\")\n",
        "p1.greet()"
      ],
      "metadata": {
        "colab": {
          "base_uri": "https://localhost:8080/"
        },
        "id": "04VSLmAds16-",
        "outputId": "8fe0143f-f5f4-4136-ba66-59f102dfcd23"
      },
      "execution_count": null,
      "outputs": [
        {
          "output_type": "stream",
          "name": "stdout",
          "text": [
            "Hello from Decorator\n"
          ]
        }
      ]
    },
    {
      "cell_type": "markdown",
      "source": [
        "# **18. Property Decorators: @property, @setter, and @deleter**\n",
        "Assignment:\n",
        "\n",
        "Create a class Product with a private attribute _price. Use @property to get the price, @price.setter to update it, and @price.deleter to delete it.\n",
        "\n"
      ],
      "metadata": {
        "id": "6uMAdBr5tD6s"
      }
    },
    {
      "cell_type": "code",
      "source": [
        "class Product:\n",
        "    def __init__(self, price):\n",
        "        self._price = price\n",
        "\n",
        "    @property\n",
        "    def get_price(self):\n",
        "        print(\"Calling getter\")\n",
        "        return self._price\n",
        "\n",
        "    @get_price.setter\n",
        "    def get_price(self, value):\n",
        "        print(\"Calling setter\")\n",
        "        if value > 0:\n",
        "            self._price = value\n",
        "        else:\n",
        "            print(\"Invalid Price\")\n",
        "\n",
        "    @get_price.deleter\n",
        "    def get_price(self):\n",
        "        print(\"Calling deleter\")\n",
        "        del self._price\n",
        "\n",
        "p1 = Product(500)\n",
        "print(p1.get_price) # Calling getter → 500\n",
        "p1.get_price = 1000 # Calling setter\n",
        "print(p1.get_price) # Calling getter → 1000\n",
        "del p1.get_price # Calling deleter\n",
        "# Trying to access after deletion\n",
        "try:\n",
        "    print(p1.get_price)    # Will raise AttributeError\n",
        "except AttributeError:\n",
        "    print(\"Price not found (AttributeError)\")\n"
      ],
      "metadata": {
        "colab": {
          "base_uri": "https://localhost:8080/"
        },
        "id": "5PzIOeRBtMYc",
        "outputId": "cb362350-a69e-40fd-c71d-3e04ace5f0a9"
      },
      "execution_count": 66,
      "outputs": [
        {
          "output_type": "stream",
          "name": "stdout",
          "text": [
            "Calling getter\n",
            "500\n",
            "Calling setter\n",
            "Calling getter\n",
            "1000\n",
            "Calling deleter\n",
            "Calling getter\n",
            "Price not found (AttributeError)\n"
          ]
        }
      ]
    },
    {
      "cell_type": "markdown",
      "source": [
        "# **19. callable() and __call__()**\n",
        "\n",
        "Assignment:\n",
        "\n",
        "Create a class Multiplier with an __init__() to set a factor. Define a __call__() method that multiplies an input by the factor. Test it with callable() and by calling the object like a function."
      ],
      "metadata": {
        "id": "uVjYJqmGuUEZ"
      }
    },
    {
      "cell_type": "code",
      "source": [
        "class Multiplier:\n",
        "    def __init__(self, factor):\n",
        "        self.factor=factor\n",
        "    def __call__(self, input):\n",
        "        return self.factor*input\n",
        "m1= Multiplier(8)\n",
        "print(m1(6))\n",
        "print(callable(m1))"
      ],
      "metadata": {
        "colab": {
          "base_uri": "https://localhost:8080/"
        },
        "id": "_I4LoFCKuiIn",
        "outputId": "b9ac11c3-9737-49d1-9856-99da2ed1ef7e"
      },
      "execution_count": 68,
      "outputs": [
        {
          "output_type": "stream",
          "name": "stdout",
          "text": [
            "48\n",
            "True\n"
          ]
        }
      ]
    },
    {
      "cell_type": "markdown",
      "source": [
        "# **20. Creating a Custom Exception**\n",
        "Assignment:\n",
        "Create a custom exception InvalidAgeError. Write a function check_age(age) that raises this exception if age < 18. Handle it with try...except.\n",
        "\n"
      ],
      "metadata": {
        "id": "GhOX8n5SuuRb"
      }
    },
    {
      "cell_type": "code",
      "source": [
        "class InvalidAgeError(Exception):\n",
        "    pass\n",
        "def check_age(age):\n",
        "    if age < 18:\n",
        "        raise InvalidAgeError(\"Age is less than 18\")\n",
        "    else:\n",
        "        print(\"Access Granted\")\n",
        "\n",
        "try:\n",
        "    check_age(20)\n",
        "    check_age(15)\n",
        "except InvalidAgeError as e:\n",
        "    print(\"Caught an exception \", e)"
      ],
      "metadata": {
        "colab": {
          "base_uri": "https://localhost:8080/"
        },
        "id": "TVVuXbL5vSbK",
        "outputId": "083e8e34-949d-47f8-d1b9-97e7e5ab378d"
      },
      "execution_count": 71,
      "outputs": [
        {
          "output_type": "stream",
          "name": "stdout",
          "text": [
            "Access Granted\n",
            "Caught an exception  Age is less than 18\n"
          ]
        }
      ]
    },
    {
      "cell_type": "markdown",
      "source": [
        "# **21. Make a Custom Class Iterable**\n",
        "Assignment:\n",
        "Create a class Countdown that takes a start number. Implement __iter__() and __next__() to make the object iterable in a for-loop, counting down to 0."
      ],
      "metadata": {
        "id": "eWsOE78DvnGP"
      }
    },
    {
      "cell_type": "code",
      "source": [
        "class Countdown:\n",
        "    def __init__(self, count:int):\n",
        "        self.count=count\n",
        "    def __iter__(self):\n",
        "        return MyIterator(self.count)\n",
        "\n",
        "class MyIterator:\n",
        "    def __init__(self, count):\n",
        "        self.count=count\n",
        "    def __next__(self):\n",
        "        if self.count<0:\n",
        "            raise StopIteration\n",
        "        value=self.count\n",
        "        self.count-=1\n",
        "        return value\n",
        "\n",
        "for item in Countdown(6):\n",
        "    print(item)\n",
        ""
      ],
      "metadata": {
        "colab": {
          "base_uri": "https://localhost:8080/"
        },
        "id": "-Ln7YaF5vt_E",
        "outputId": "c559b003-7682-457f-c8ff-9f0858a4e45c"
      },
      "execution_count": 73,
      "outputs": [
        {
          "output_type": "stream",
          "name": "stdout",
          "text": [
            "6\n",
            "5\n",
            "4\n",
            "3\n",
            "2\n",
            "1\n",
            "0\n"
          ]
        }
      ]
    }
  ]
}